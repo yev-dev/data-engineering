{
 "cells": [
  {
   "cell_type": "code",
   "execution_count": 1,
   "id": "4b47d012",
   "metadata": {},
   "outputs": [],
   "source": [
    "import findspark\n",
    "findspark.init()"
   ]
  },
  {
   "cell_type": "code",
   "execution_count": 2,
   "id": "efba1acc",
   "metadata": {},
   "outputs": [],
   "source": [
    "import os\n",
    "import pandas as pd\n",
    "import pyspark as ps\n",
    "\n",
    "from pyspark.sql import SparkSession\n",
    "from pyspark.sql.functions import *\n",
    "from pyspark.sql import Row\n",
    "from pyspark.sql.types import *"
   ]
  },
  {
   "cell_type": "markdown",
   "id": "7df14fb9",
   "metadata": {},
   "source": [
    "### Creation\n",
    "\n",
    "Use local[x] when running in Standalone mode. x should be an integer value and should be greater than 0; this represents how many partitions it should create when using RDD, DataFrame, and Dataset. Ideally, x value should be the number of CPU cores you have."
   ]
  },
  {
   "cell_type": "code",
   "execution_count": 12,
   "id": "75dea061",
   "metadata": {},
   "outputs": [],
   "source": [
    "import pyspark\n",
    "from pyspark.sql import SparkSession\n",
    "spark = SparkSession.builder.master(\"local[1]\") \\\n",
    "                    .appName('SparkByExamples.com') \\\n",
    "                    .getOrCreate()"
   ]
  },
  {
   "cell_type": "markdown",
   "id": "331cfcbf",
   "metadata": {},
   "source": [
    "You can also create a new SparkSession using newSession() method."
   ]
  },
  {
   "cell_type": "markdown",
   "id": "3c4dbead",
   "metadata": {},
   "source": [
    "Common Methods\n",
    "\n",
    "version() – Returns Spark version where your application is running, probably the Spark version you cluster is configured with.\n",
    "\n",
    "createDataFrame() – This creates a DataFrame from a collection and an RDD\n",
    "\n",
    "getActiveSession() – returns an active Spark session.\n",
    "\n",
    "read() – Returns an instance of DataFrameReader class, this is used to read records from csv, parquet, avro and more file formats into DataFrame.\n",
    "\n",
    "readStream() – Returns an instance of DataStreamReader class, this is used to read streaming data. that can be used to read streaming data into DataFrame.\n",
    "\n",
    "sparkContext() – Returns a SparkContext.\n",
    "\n",
    "sql() – Returns a DataFrame after executing the SQL mentioned.\n",
    "\n",
    "sqlContext() – Returns SQLContext.\n",
    "\n",
    "stop() – Stop the current SparkContext.\n",
    "\n",
    "table() – Returns a DataFrame of a table or view.\n",
    "\n",
    "udf() – Creates a PySpark UDF to use it on DataFrame, Dataset, and SQL."
   ]
  },
  {
   "cell_type": "code",
   "execution_count": 14,
   "id": "e8eb5192",
   "metadata": {},
   "outputs": [
    {
     "name": "stdout",
     "output_type": "stream",
     "text": [
      "('spark.driver.host', '192.168.2.33')\n",
      "('spark.executor.id', 'driver')\n",
      "('spark.app.name', 'PySparkShell')\n",
      "('spark.driver.port', '56697')\n",
      "('spark.sql.catalogImplementation', 'hive')\n",
      "('spark.rdd.compress', 'True')\n",
      "('spark.serializer.objectStreamReset', '100')\n",
      "('spark.app.startTime', '1635717421195')\n",
      "('spark.sql.warehouse.dir', 'file:/Users/yevgeniy/Development/projects/data-engineering/data-engineering/notebooks/spark-warehouse')\n",
      "('spark.master', 'local[*]')\n",
      "('spark.submit.pyFiles', '')\n",
      "('spark.submit.deployMode', 'client')\n",
      "('spark.app.id', 'local-1635717423196')\n",
      "('spark.ui.showConsoleProgress', 'true')\n"
     ]
    }
   ],
   "source": [
    "configurations = spark.sparkContext.getConf().getAll()\n",
    "for item in configurations: print(item)"
   ]
  },
  {
   "cell_type": "markdown",
   "id": "8ec05992",
   "metadata": {},
   "source": [
    "### Spark Context\n",
    "\n",
    "Most of the operations/methods or functions we use in Spark come from SparkContext for example accumulators, broadcast variables, parallelize, and more."
   ]
  },
  {
   "cell_type": "markdown",
   "id": "03132bcd",
   "metadata": {},
   "source": [
    "At any given time only one SparkContext instance should be active per JVM. In case if you want to create a another new SparkContext you should stop existing Sparkcontext (using stop()) before creating a new one."
   ]
  },
  {
   "cell_type": "markdown",
   "id": "7c58bf58",
   "metadata": {},
   "source": [
    "### Dataframe Creation"
   ]
  },
  {
   "cell_type": "code",
   "execution_count": 10,
   "id": "6c8b4367",
   "metadata": {},
   "outputs": [],
   "source": [
    "data = [('James','','Smith','1991-04-01','M',3000),\n",
    "  ('Michael','Rose','','2000-05-19','M',4000),\n",
    "  ('Robert','','Williams','1978-09-05','M',4000),\n",
    "  ('Maria','Anne','Jones','1967-12-01','F',4000),\n",
    "  ('Jen','Mary','Brown','1980-02-17','F',-1)\n",
    "]\n",
    "\n",
    "columns = [\"firstname\",\"middlename\",\"lastname\",\"dob\",\"gender\",\"salary\"]\n",
    "\n",
    "df = spark.createDataFrame(data=data, schema = columns)\n",
    "\n",
    "# Reading into\n",
    "#df = spark.read.csv(\"/path/to/file.csv\")"
   ]
  },
  {
   "cell_type": "code",
   "execution_count": 11,
   "id": "07566fb4",
   "metadata": {},
   "outputs": [
    {
     "name": "stdout",
     "output_type": "stream",
     "text": [
      "+---------+----------+--------+----------+------+------+\n",
      "|firstname|middlename|lastname|       dob|gender|salary|\n",
      "+---------+----------+--------+----------+------+------+\n",
      "|    James|          |   Smith|1991-04-01|     M|  3000|\n",
      "|  Michael|      Rose|        |2000-05-19|     M|  4000|\n",
      "|   Robert|          |Williams|1978-09-05|     M|  4000|\n",
      "|    Maria|      Anne|   Jones|1967-12-01|     F|  4000|\n",
      "|      Jen|      Mary|   Brown|1980-02-17|     F|    -1|\n",
      "+---------+----------+--------+----------+------+------+\n",
      "\n"
     ]
    }
   ],
   "source": [
    "df.show()"
   ]
  },
  {
   "cell_type": "code",
   "execution_count": null,
   "id": "753adc33",
   "metadata": {},
   "outputs": [],
   "source": []
  }
 ],
 "metadata": {
  "kernelspec": {
   "display_name": "Python 3 (ipykernel)",
   "language": "python",
   "name": "python3"
  },
  "language_info": {
   "codemirror_mode": {
    "name": "ipython",
    "version": 3
   },
   "file_extension": ".py",
   "mimetype": "text/x-python",
   "name": "python",
   "nbconvert_exporter": "python",
   "pygments_lexer": "ipython3",
   "version": "3.7.11"
  }
 },
 "nbformat": 4,
 "nbformat_minor": 5
}
